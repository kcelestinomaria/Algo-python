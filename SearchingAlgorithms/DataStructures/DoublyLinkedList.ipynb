{
 "metadata": {
  "language_info": {
   "codemirror_mode": {
    "name": "ipython",
    "version": 3
   },
   "file_extension": ".py",
   "mimetype": "text/x-python",
   "name": "python",
   "nbconvert_exporter": "python",
   "pygments_lexer": "ipython3",
   "version": "3.8.3-final"
  },
  "orig_nbformat": 2,
  "kernelspec": {
   "name": "python3",
   "display_name": "Python 3",
   "language": "python"
  }
 },
 "nbformat": 4,
 "nbformat_minor": 2,
 "cells": [
  {
   "cell_type": "code",
   "execution_count": 4,
   "metadata": {},
   "outputs": [],
   "source": [
    "class Node:\n",
    "    def __init__(self, data):\n",
    "        self.item = data #Stores the reference to the currently held data/item\n",
    "        self.nextItem = None#Stores the reference to the next data/item\n",
    "        self.prevItem = None#Stores the reference to the previously held data/item"
   ]
  },
  {
   "cell_type": "code",
   "execution_count": 24,
   "metadata": {},
   "outputs": [],
   "source": [
    "class DoublyLinkedList:\n",
    "    def __init__(self):\n",
    "        self.start_node = None\n",
    "\n",
    "    #Inserting items in an empty Doubly Linked List\n",
    "    def insert_in_empty_list(self, data):\n",
    "        if self.start_node is None:\n",
    "            new_node = Node(data)\n",
    "            self.start_node = new_node\n",
    "        else:\n",
    "            print(\"List is not empty\")\n",
    "\n",
    "    def insert_at_start(self, data):\n",
    "        if self.start_node is None:\n",
    "            new_node = Node(data)\n",
    "            self.start_node = new_node\n",
    "            print(\"node inserted successfully\")\n",
    "            return\n",
    "        new_node = Node(data)\n",
    "        new_node.nextItem = self.start_node\n",
    "        self.start_node.prevItem = new_node\n",
    "        self.start_node = new_node\n",
    "\n",
    "    def insert_at_end(self, data):\n",
    "        if self.start_node is None:\n",
    "            new_node = Node(data)\n",
    "            self.start_node = new_node\n",
    "            print(\"node inserted successfully\")\n",
    "            return\n",
    "        n = self.start_node\n",
    "        while n.nextItem is not None:\n",
    "            n = n.nextItem\n",
    "        new_node = Node(data)\n",
    "        n.nextItem = new_node\n",
    "        new_node.prevItem = n\n",
    "\n",
    "    def insert_after_item(self, selectedItem, data):\n",
    "        if self.start_node is None:\n",
    "            print(\"List has no elements\")\n",
    "            return\n",
    "        else:\n",
    "            n = self.start_node\n",
    "            while n is not None:\n",
    "                if n.nextItem == selectedItem:\n",
    "                    break\n",
    "                n = n.nextItem\n",
    "            if n is None:\n",
    "                print(\"Item is not in the list\")\n",
    "            else:\n",
    "                new_node = Node(data)\n",
    "                new_node.prevItem = n\n",
    "                new_node.nextItem = n.nextItem\n",
    "                #If we are not at the end of the list, then:\n",
    "                if n.nextItem is not None:\n",
    "                    n.nextItem.prevItem = new_node\n",
    "                #If we have reached the end of the list, then:\n",
    "            n.nextItem = new_node\n",
    "\n",
    "    def insert_before_item(self, selectedItem, data):\n",
    "        if self.start_node is None:\n",
    "            print(\"List has no elements\")\n",
    "            return\n",
    "        else:\n",
    "            n = self.start_node\n",
    "            while n is not None:\n",
    "                if n.item == selectedItem:\n",
    "                    break\n",
    "                n = n.nextItem\n",
    "            if n is None:\n",
    "                print(\"Item is not in the list\")\n",
    "            else:\n",
    "                new_node = Node(data)\n",
    "                new_node.nextItem = n\n",
    "                new_node.prevItem = n.prevItem\n",
    "                #If we are not at the start of the list, then:\n",
    "                if n.prevItem is not None:\n",
    "                    n.prevItem.nextItem = new_node\n",
    "                #Otherwise(which means we are the beginning of the list):\n",
    "            n.prevItem = new_node\n",
    "    \n",
    "    def traverse_list(self):\n",
    "        if self.start_node is None:\n",
    "            print(\"List has no elements\")\n",
    "            return \n",
    "        else:\n",
    "            n = self.start_node\n",
    "            while n is not None:\n",
    "                print(n.item, \" \")\n",
    "                n = n.nextItem\n",
    "\n",
    "    def delete_at_start(self):\n",
    "        if self.start_node is None:\n",
    "            print(\"List has no element to delete\")\n",
    "            return\n",
    "        if self.start_node.nextItem is None:\n",
    "            self.start_node = None\n",
    "            return\n",
    "        self.start_node = self.start_node.nextItem\n",
    "        self.start_node.prevItem = None\n",
    "\n",
    "    def delete_at_end(self):\n",
    "        if self.start_node is None:\n",
    "            print(\"List has no element to delete\")\n",
    "            return\n",
    "        if self.start_node.nextItem is None:\n",
    "            self.start_node = None\n",
    "            return\n",
    "        n = self.start_node\n",
    "        while n.nextItem is not None:\n",
    "            n = n.nextItem\n",
    "        n.prevItem.nextItem = None\n",
    "\n",
    "    def delete_item_by_value(self, selectedItem):\n",
    "        if self.start_node is None:\n",
    "            print(\"List has no element to delete\")\n",
    "            return\n",
    "        if self.start_node.nextItem is None:\n",
    "            if self.start_node == selectedItem:\n",
    "                self.start_node = None\n",
    "            else:\n",
    "                print(\"Item not found\")\n",
    "            return\n",
    "\n",
    "        if self.start_node.item == x:\n",
    "            self.start_node = self.start_node.nextItem\n",
    "            self.start_node.prevItem = None\n",
    "            return \n",
    "\n",
    "        n = self.start_node\n",
    "        while n.nextItem is not None:\n",
    "            if n.item == x:\n",
    "                break\n",
    "            n = n.nextItem\n",
    "        if n.nextItem is not None:\n",
    "            n.prevItem.nextItem = n.nextItem\n",
    "            n.nextItem.prevItem = n.prevItem\n",
    "        else:\n",
    "            if n.item == x:\n",
    "                n.prevItem.nextItem = None\n",
    "            else:\n",
    "                print(\"Element not found\")\n",
    "\n",
    "    def reverse_DoublyLinkedList(self):\n",
    "        if self.start_node is None:\n",
    "            print(\"List has no element to reverse\")\n",
    "            return\n",
    "        p = self.start_node\n",
    "        q = p.nextItem\n",
    "        p.nextItem = None\n",
    "        p.prevItem = q\n",
    "        while q is not None:\n",
    "            q.prevItem = q.nextItem\n",
    "            q.nextItem = p\n",
    "            p = q\n",
    "            q = q.prevItem\n",
    "        self.start_node = p\n",
    "\n"
   ]
  },
  {
   "cell_type": "code",
   "execution_count": 13,
   "metadata": {},
   "outputs": [],
   "source": [
    "numbers_DoublyLinkedList = DoublyLinkedList()"
   ]
  },
  {
   "cell_type": "code",
   "execution_count": 14,
   "metadata": {},
   "outputs": [],
   "source": [
    "numbers_DoublyLinkedList.insert_in_empty_list(40)"
   ]
  },
  {
   "cell_type": "code",
   "execution_count": 15,
   "metadata": {},
   "outputs": [
    {
     "output_type": "stream",
     "name": "stdout",
     "text": [
      "40  \n"
     ]
    }
   ],
   "source": [
    "numbers_DoublyLinkedList.traverse_list()"
   ]
  },
  {
   "cell_type": "code",
   "execution_count": 18,
   "metadata": {},
   "outputs": [
    {
     "output_type": "stream",
     "name": "stdout",
     "text": [
      "20  \n20  \n40  \n23  \n90  \n23  \n90  \n"
     ]
    }
   ],
   "source": [
    "numbers_DoublyLinkedList.insert_at_start(20)\n",
    "numbers_DoublyLinkedList.insert_at_end(23)\n",
    "numbers_DoublyLinkedList.insert_at_end(90)\n",
    "numbers_DoublyLinkedList.traverse_list()"
   ]
  },
  {
   "cell_type": "code",
   "execution_count": 26,
   "metadata": {},
   "outputs": [
    {
     "output_type": "stream",
     "name": "stdout",
     "text": [
      "20  \n20  \n40  \n40  \n40  \n40  \n40  \n40  \n23  \n90  \n23  \n90  \n"
     ]
    }
   ],
   "source": [
    "numbers_DoublyLinkedList.insert_before_item(40, 40)\n",
    "numbers_DoublyLinkedList.traverse_list()"
   ]
  },
  {
   "cell_type": "code",
   "execution_count": 27,
   "metadata": {},
   "outputs": [
    {
     "output_type": "stream",
     "name": "stdout",
     "text": [
      "20  \n20  \n40  \n40  \n40  \n40  \n40  \n40  \n23  \n90  \n23  \n"
     ]
    }
   ],
   "source": [
    "numbers_DoublyLinkedList.delete_at_end()\n",
    "numbers_DoublyLinkedList.traverse_list()"
   ]
  },
  {
   "cell_type": "code",
   "execution_count": 33,
   "metadata": {},
   "outputs": [
    {
     "output_type": "stream",
     "name": "stdout",
     "text": [
      "23  \n90  \n23  \n40  \n40  \n40  \n40  \n40  \n40  \n20  \n20  \n"
     ]
    }
   ],
   "source": [
    "numbers_DoublyLinkedList.reverse_DoublyLinkedList()\n",
    "numbers_DoublyLinkedList.traverse_list()"
   ]
  },
  {
   "cell_type": "code",
   "execution_count": null,
   "metadata": {},
   "outputs": [],
   "source": []
  }
 ]
}