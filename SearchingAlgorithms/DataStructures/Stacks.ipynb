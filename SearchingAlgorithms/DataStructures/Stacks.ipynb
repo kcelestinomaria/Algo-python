{
 "metadata": {
  "language_info": {
   "codemirror_mode": {
    "name": "ipython",
    "version": 3
   },
   "file_extension": ".py",
   "mimetype": "text/x-python",
   "name": "python",
   "nbconvert_exporter": "python",
   "pygments_lexer": "ipython3",
   "version": "3.8.3-final"
  },
  "orig_nbformat": 2,
  "kernelspec": {
   "name": "python3",
   "display_name": "Python 3",
   "language": "python"
  }
 },
 "nbformat": 4,
 "nbformat_minor": 2,
 "cells": [
  {
   "cell_type": "code",
   "execution_count": 1,
   "metadata": {},
   "outputs": [],
   "source": [
    "class Node:\n",
    "    def __init__(self, data=None):\n",
    "        self.item = data\n",
    "        self.nextItem = None"
   ]
  },
  {
   "cell_type": "code",
   "execution_count": 2,
   "metadata": {},
   "outputs": [],
   "source": [
    "class Stack:\n",
    "    def __init__(self):\n",
    "        self.topItem = None #Reference to the item at the top of the stack(which #we need to know first hand)\n",
    "        self.size = 0 #Since we want to keep track of the nodes(data/items) in #the stack when we add one(push) or remove(pop)\n",
    "\n",
    "    #The push method adds an element on top of the stack\n",
    "    def push(self, data):\n",
    "        node = Node(data)\n",
    "        if self.topItem:\n",
    "            node.next = self.topItem #The next attribute in node.next points to the node below the new node that was the topItem\n",
    "            self.topItem = node\n",
    "        else:\n",
    "            self.topItem = node\n",
    "        self.size += 1\n",
    "\n",
    "    def pop(self):\n",
    "        if self.topItem:\n",
    "            data = self.topItem.data\n",
    "            self.size -= 1\n",
    "            if self.topItem.next:\n",
    "                self.topItem = self.topItem.next\n",
    "            else:\n",
    "                self.topItem = None\n",
    "            return data\n",
    "        else:\n",
    "            return None\n",
    "\n",
    "    #Checks for the element at the top of the stack without removing it\n",
    "    def peek(self):\n",
    "        if self.topItem:\n",
    "            return self.topItem.data\n",
    "        else:\n",
    "            return None\n"
   ]
  }
 ]
}