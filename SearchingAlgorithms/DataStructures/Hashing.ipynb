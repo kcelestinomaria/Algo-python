{
 "metadata": {
  "language_info": {
   "codemirror_mode": {
    "name": "ipython",
    "version": 3
   },
   "file_extension": ".py",
   "mimetype": "text/x-python",
   "name": "python",
   "nbconvert_exporter": "python",
   "pygments_lexer": "ipython3",
   "version": "3.8.3-final"
  },
  "orig_nbformat": 2,
  "kernelspec": {
   "name": "python3",
   "display_name": "Python 3",
   "language": "python"
  }
 },
 "nbformat": 4,
 "nbformat_minor": 2,
 "cells": [
  {
   "cell_type": "code",
   "execution_count": 1,
   "metadata": {},
   "outputs": [
    {
     "output_type": "execute_result",
     "data": {
      "text/plain": [
       "102"
      ]
     },
     "metadata": {},
     "execution_count": 1
    }
   ],
   "source": [
    "ord('f')"
   ]
  },
  {
   "cell_type": "code",
   "execution_count": 5,
   "metadata": {},
   "outputs": [
    {
     "output_type": "execute_result",
     "data": {
      "text/plain": [
       "1116"
      ]
     },
     "metadata": {},
     "execution_count": 5
    }
   ],
   "source": [
    "sum(map(ord, 'hello world'))"
   ]
  },
  {
   "cell_type": "code",
   "execution_count": 8,
   "metadata": {},
   "outputs": [
    {
     "output_type": "execute_result",
     "data": {
      "text/plain": [
       "1116"
      ]
     },
     "metadata": {},
     "execution_count": 8
    }
   ],
   "source": [
    "sum(map(ord, 'gello xorld'))"
   ]
  },
  {
   "source": [
    "To ensure that each string we hash has a unique value(This is called avoiding collisions).We can use a multiplier below"
   ],
   "cell_type": "markdown",
   "metadata": {}
  },
  {
   "cell_type": "code",
   "execution_count": 12,
   "metadata": {},
   "outputs": [],
   "source": [
    "def myhash(string):\n",
    "    multiplier = 1\n",
    "    hashval = 0\n",
    "    for character in string:\n",
    "        hashval += multiplier * ord(character)\n",
    "        multiplier += 1\n",
    "    return hashval"
   ]
  },
  {
   "cell_type": "code",
   "execution_count": 13,
   "metadata": {},
   "outputs": [
    {
     "output_type": "stream",
     "name": "stdout",
     "text": [
      "hello world: 6736\nworld hello: 6616\ngello xorld: 6742\n"
     ]
    }
   ],
   "source": [
    "#To test the above function:\n",
    "for sentence in ('hello world', 'world hello', 'gello xorld'):\n",
    "    print(\"{}: {}\".format(sentence, myhash(sentence)))"
   ]
  },
  {
   "source": [
    "However, when we try the above hashing function with other strings, it still results in collisions, so it is yet to be perfect. See below"
   ],
   "cell_type": "markdown",
   "metadata": {}
  },
  {
   "cell_type": "code",
   "execution_count": 14,
   "metadata": {},
   "outputs": [
    {
     "output_type": "stream",
     "name": "stdout",
     "text": [
      "ad: 297\nga: 297\n"
     ]
    }
   ],
   "source": [
    "print(\"{}: {}\".format('ad', myhash('ad')))\n",
    "print(\"{}: {}\".format('ga', myhash('ga')))"
   ]
  },
  {
   "source": [
    "For more strategies on resolving collisions like the above, we will come back to it later, next, we are going to implement Hash Tables"
   ],
   "cell_type": "markdown",
   "metadata": {}
  },
  {
   "source": [
    "A hash table is a form of list where elements are accessed by a keyword rather than an\n",
    "index number. At least, this is how the client code will see it. Internally, it will use a slightly\n",
    "modified version of our hashing function in order to find the index position in which the\n",
    "element should be inserted. This gives us fast lookups, since we are using an index number\n",
    "which corresponds to the hash value of the key"
   ],
   "cell_type": "markdown",
   "metadata": {}
  },
  {
   "cell_type": "code",
   "execution_count": 15,
   "metadata": {},
   "outputs": [],
   "source": [
    "#We start by implementing a Hash Item class to represent how the Hash Table items #will look and their actions\n",
    "\n",
    "class HashItem:\n",
    "    def __init__(self, key, value):\n",
    "        self.key = key\n",
    "        self.value = value\n",
    "    #Each Item in the Hash Table will have a key and a value to represent itself        #as implemented above\n",
    "    #This gives us a very simple way to store items. Next, we start working on          #the hash table class itself"
   ]
  },
  {
   "cell_type": "code",
   "execution_count": 25,
   "metadata": {},
   "outputs": [],
   "source": [
    "class HashTable:\n",
    "    #So, the definite size of our hash table is going to be 256 slots/buckets\n",
    "    def __init__(self):\n",
    "        self.size = 256\n",
    "        self.slots = [None for i in range(self.size)]\n",
    "        self.count = 0#The count is used to get the number of filled slots/buckets i.e the number of complete key-value pairs in the Hash Table\n",
    "\n",
    "    def _myhash(self, key):\n",
    "        #We implemented a hash function to convert the string keys into unique              #values\n",
    "        #We ensured the function is only used internally by putting a hyphen in             #front of it\n",
    "        mult = 1\n",
    "        hashval = 0\n",
    "        for ch in key:\n",
    "            hashval += mult * ord(ch)\n",
    "            mult += 1\n",
    "        #To ensure that the hash value is going to be within the size of the Hash           #Table, we will divide it by the size so that it's between 0 to 255\n",
    "        return hashval % self.size\n",
    "\n",
    "    def put(self, key, value):\n",
    "        item = HashItem(key, value)\n",
    "        hashedKey = self._myhash(key)\n",
    "        while self.slots[hashedKey] is not None:\n",
    "            if self.slots[hashedKey].key is key:\n",
    "                break\n",
    "            hashedKey = (hashedKey + 1) % self.size\n",
    "        if self.slots[hashedKey] is None:\n",
    "            self.count += 1\n",
    "        self.slots[hashedKey] = item\n",
    "\n",
    "\n",
    "    def get(self, key):\n",
    "        hashedKey = self._myhash(key)\n",
    "        while self.slots[hashedKey] is not None:\n",
    "            if self.slots[hashedKey].key is key:\n",
    "                return self.slots[hashedKey].value\n",
    "            hashedKey = (hashedKey + 1) % self.size\n",
    "        return None\n",
    "\n",
    "    #Considering that we want to make our hash table behave like a list, we want #the putting and getting operations not to work like e.g ht.get(\"key\"), but #instead to work like this e.g ht[\"key\"]. Below, we will try and make that #possible:\n",
    "    def __setitem__(self, key, value):\n",
    "        self.put(key, value)\n",
    "\n",
    "    def __getitem__(self, key):\n",
    "        return self.get(key)"
   ]
  },
  {
   "cell_type": "code",
   "execution_count": 23,
   "metadata": {},
   "outputs": [],
   "source": [
    "ht = HashTable()\n",
    "ht.put(\"Teenager\", \"Celestine\")\n",
    "ht.put(\"Babygirl\", \"VarcyMarie\")\n",
    "ht.put(\"FirstBorn\", \"Michael\")\n",
    "ht.put(\"Mother\", \"Margaret\")\n",
    "ht.put(\"BornFirst\", \"CollisionTest\")"
   ]
  },
  {
   "cell_type": "code",
   "execution_count": 24,
   "metadata": {},
   "outputs": [
    {
     "output_type": "stream",
     "name": "stdout",
     "text": [
      "Celestine\nVarcyMarie\nMargaret\nMichael\nCollisionTest\nNone\n"
     ]
    }
   ],
   "source": [
    "for key in (\"Teenager\", \"Babygirl\", \"Mother\", \"FirstBorn\", \"BornFirst\", \"Cousin\"):\n",
    "    value = ht.get(key)\n",
    "    print(value)"
   ]
  },
  {
   "source": [
    "Our test code, after adding the __setitem__ and the __getitem__ methods, should look like this below:"
   ],
   "cell_type": "markdown",
   "metadata": {}
  },
  {
   "cell_type": "code",
   "execution_count": 26,
   "metadata": {},
   "outputs": [],
   "source": [
    "ht1 = HashTable()\n",
    "ht1[\"Father\"] = \"Dennis\"\n",
    "ht1[\"EldestSon\"] = \"Michael\"\n",
    "ht1[\"SonEldest\"] = \"CollisionTest\"\n",
    "ht1[\"YoungestSon\"] = \"Celestine\"\n",
    "ht1[\"Mother\"] = \"Margaret\""
   ]
  },
  {
   "cell_type": "code",
   "execution_count": 27,
   "metadata": {},
   "outputs": [
    {
     "output_type": "stream",
     "name": "stdout",
     "text": [
      "Dennis\nMichael\nCollisionTest\nCelestine\nMargaret\nNone\nThe number of elements is: 5\n"
     ]
    }
   ],
   "source": [
    "for key in (\"Father\", \"EldestSon\", \"SonEldest\", \"YoungestSon\", \"Mother\", \"Sister\"):\n",
    "    value = ht1[key]\n",
    "    print(value)\n",
    "print(\"The number of elements is: {}\".format(ht.count))"
   ]
  },
  {
   "cell_type": "code",
   "execution_count": null,
   "metadata": {},
   "outputs": [],
   "source": []
  }
 ]
}