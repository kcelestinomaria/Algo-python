{
 "metadata": {
  "language_info": {
   "codemirror_mode": {
    "name": "ipython",
    "version": 3
   },
   "file_extension": ".py",
   "mimetype": "text/x-python",
   "name": "python",
   "nbconvert_exporter": "python",
   "pygments_lexer": "ipython3",
   "version": "3.8.3-final"
  },
  "orig_nbformat": 2,
  "kernelspec": {
   "name": "python3",
   "display_name": "Python 3",
   "language": "python"
  }
 },
 "nbformat": 4,
 "nbformat_minor": 2,
 "cells": [
  {
   "cell_type": "code",
   "execution_count": 3,
   "metadata": {},
   "outputs": [],
   "source": [
    "from collections import ChainMap"
   ]
  },
  {
   "source": [
    " ChainMaps are an ordered list of dictionaries. ChainMap is\n",
    "useful in applications where we are using a number of dictionaries containing related data.\n",
    "The consuming application expects data in terms of a priority, where the same key in two\n",
    "dictionaries is given priority if it occurs at the beginning of the underlying list. ChainMap is\n",
    "typically used to simulate nested contexts such as when we have multiple overriding\n",
    "configuration settings. The following example demonstrates a possible use case for\n",
    "ChainMap"
   ],
   "cell_type": "markdown",
   "metadata": {}
  },
  {
   "cell_type": "code",
   "execution_count": 2,
   "metadata": {},
   "outputs": [],
   "source": [
    "#A dictionary to represent configuration settings\n",
    "defaults = {'theme':'Default', 'language':'eng', 'showIndex':'True', 'showFooter':'True'}"
   ]
  },
  {
   "cell_type": "code",
   "execution_count": 4,
   "metadata": {},
   "outputs": [],
   "source": [
    "cm1 = ChainMap(defaults)"
   ]
  },
  {
   "cell_type": "code",
   "execution_count": 7,
   "metadata": {},
   "outputs": [],
   "source": [
    "cm2 = cm1.new_child({'theme':'bluesky'})\n",
    "#Creates a new child ChainMap of cm1 that has the 'theme' as 'bluesky', and we #then assign it to cm2"
   ]
  },
  {
   "cell_type": "code",
   "execution_count": 8,
   "metadata": {},
   "outputs": [
    {
     "output_type": "execute_result",
     "data": {
      "text/plain": [
       "'bluesky'"
      ]
     },
     "metadata": {},
     "execution_count": 8
    }
   ],
   "source": [
    "cm2['theme']"
   ]
  },
  {
   "cell_type": "code",
   "execution_count": 9,
   "metadata": {},
   "outputs": [
    {
     "output_type": "execute_result",
     "data": {
      "text/plain": [
       "'Default'"
      ]
     },
     "metadata": {},
     "execution_count": 9
    }
   ],
   "source": [
    "cm1['theme']"
   ]
  },
  {
   "cell_type": "code",
   "execution_count": 10,
   "metadata": {},
   "outputs": [
    {
     "output_type": "execute_result",
     "data": {
      "text/plain": [
       "'bluesky'"
      ]
     },
     "metadata": {},
     "execution_count": 10
    }
   ],
   "source": [
    "cm2.pop('theme')"
   ]
  },
  {
   "cell_type": "code",
   "execution_count": 11,
   "metadata": {},
   "outputs": [
    {
     "output_type": "execute_result",
     "data": {
      "text/plain": [
       "'Default'"
      ]
     },
     "metadata": {},
     "execution_count": 11
    }
   ],
   "source": [
    "cm2['theme']"
   ]
  },
  {
   "source": [
    "The advantage of using ChainMaps, rather than just a dictionary, is that we retain\n",
    "previously set values. Adding a child context overrides values for the same key, but it does\n",
    "not remove it from the data structure. This can be useful for when we may need to keep a\n",
    "record of changes so that we can easily roll back to a previous setting"
   ],
   "cell_type": "markdown",
   "metadata": {}
  },
  {
   "cell_type": "code",
   "execution_count": 12,
   "metadata": {},
   "outputs": [
    {
     "output_type": "execute_result",
     "data": {
      "text/plain": [
       "[{},\n",
       " {'theme': 'Default',\n",
       "  'language': 'eng',\n",
       "  'showIndex': 'True',\n",
       "  'showFooter': 'True'}]"
      ]
     },
     "metadata": {},
     "execution_count": 12
    }
   ],
   "source": [
    "cm2.maps"
   ]
  },
  {
   "cell_type": "code",
   "execution_count": 13,
   "metadata": {},
   "outputs": [
    {
     "output_type": "execute_result",
     "data": {
      "text/plain": [
       "{}"
      ]
     },
     "metadata": {},
     "execution_count": 13
    }
   ],
   "source": [
    "cm2.maps[0]"
   ]
  },
  {
   "cell_type": "code",
   "execution_count": 14,
   "metadata": {},
   "outputs": [
    {
     "output_type": "execute_result",
     "data": {
      "text/plain": [
       "{'theme': 'Default',\n",
       " 'language': 'eng',\n",
       " 'showIndex': 'True',\n",
       " 'showFooter': 'True'}"
      ]
     },
     "metadata": {},
     "execution_count": 14
    }
   ],
   "source": [
    "cm2.maps[1]"
   ]
  },
  {
   "cell_type": "code",
   "execution_count": 16,
   "metadata": {},
   "outputs": [
    {
     "output_type": "execute_result",
     "data": {
      "text/plain": [
       "[{'theme': 'Desert', 'language': 'french'},\n",
       " {'theme': 'Default',\n",
       "  'language': 'eng',\n",
       "  'showIndex': 'True',\n",
       "  'showFooter': 'True'}]"
      ]
     },
     "metadata": {},
     "execution_count": 16
    }
   ],
   "source": [
    "cm2.maps[0] = {'theme':'Desert', 'language': 'french'}\n",
    "cm2.maps"
   ]
  },
  {
   "source": [
    "cm2['language']"
   ],
   "cell_type": "code",
   "metadata": {},
   "execution_count": 17,
   "outputs": [
    {
     "output_type": "execute_result",
     "data": {
      "text/plain": [
       "'french'"
      ]
     },
     "metadata": {},
     "execution_count": 17
    }
   ]
  },
  {
   "cell_type": "code",
   "execution_count": 18,
   "metadata": {},
   "outputs": [
    {
     "output_type": "execute_result",
     "data": {
      "text/plain": [
       "ChainMap({'theme': 'Default', 'language': 'eng', 'showIndex': 'True', 'showFooter': 'True'})"
      ]
     },
     "metadata": {},
     "execution_count": 18
    }
   ],
   "source": [
    "cm2.parents"
   ]
  },
  {
   "cell_type": "code",
   "execution_count": 19,
   "metadata": {},
   "outputs": [
    {
     "output_type": "execute_result",
     "data": {
      "text/plain": [
       "<bound method ChainMap.new_child of ChainMap({'theme': 'Desert', 'language': 'french'}, {'theme': 'Default', 'language': 'eng', 'showIndex': 'True', 'showFooter': 'True'})>"
      ]
     },
     "metadata": {},
     "execution_count": 19
    }
   ],
   "source": [
    "cm2.new_child"
   ]
  },
  {
   "cell_type": "code",
   "execution_count": null,
   "metadata": {},
   "outputs": [],
   "source": []
  }
 ]
}