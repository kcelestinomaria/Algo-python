{
 "metadata": {
  "language_info": {
   "codemirror_mode": {
    "name": "ipython",
    "version": 3
   },
   "file_extension": ".py",
   "mimetype": "text/x-python",
   "name": "python",
   "nbconvert_exporter": "python",
   "pygments_lexer": "ipython3",
   "version": "3.8.3-final"
  },
  "orig_nbformat": 2,
  "kernelspec": {
   "name": "python3",
   "display_name": "Python 3",
   "language": "python"
  }
 },
 "nbformat": 4,
 "nbformat_minor": 2,
 "cells": [
  {
   "source": [
    "We will start by implementing a List-based Queue in Python "
   ],
   "cell_type": "markdown",
   "metadata": {}
  },
  {
   "cell_type": "code",
   "execution_count": 1,
   "metadata": {},
   "outputs": [],
   "source": [
    "class ListQueue:\n",
    "    def __init__(self):\n",
    "        self.items = [] #Initiated an empty list that will hold the items\n",
    "        self.size = 0#Will be used to count the size\n",
    "\n",
    "    def enqueue(self, data):\n",
    "        self.items.insert(0, data) #The insert attribute inserts any new data/#element at the zero index and shifts the existing ones one position up/right \n",
    "        self.size += 1\n",
    "\n",
    "    def dequeue(self):\n",
    "        data = self.items.pop() # pop() removes the last element at the end of #the list which is then assigned to the data variable\n",
    "        self.size -= 1\n",
    "        return data\n"
   ]
  },
  {
   "source": [
    "What can we say about the enqueue operation? It is highly inefficient in\n",
    "more than one way. The method has to first shift all the elements by one\n",
    "space. Imagine when there are 1 million elements in a list which need to be\n",
    "shifted around anytime a new element is being added to the queue. This\n",
    "will generally make the enqueue process very slow for large lists."
   ],
   "cell_type": "markdown",
   "metadata": {}
  },
  {
   "source": [
    "Thus, next we will implement a Node-based Queue"
   ],
   "cell_type": "markdown",
   "metadata": {}
  },
  {
   "cell_type": "code",
   "execution_count": 3,
   "metadata": {},
   "outputs": [],
   "source": [
    "class Node:\n",
    "    def __init__(self, data=None):\n",
    "        self.item = data\n",
    "        self.nextItem = None\n",
    "        self.prevItem = None"
   ]
  },
  {
   "cell_type": "code",
   "execution_count": 4,
   "metadata": {},
   "outputs": [],
   "source": [
    "class Queue:\n",
    "    def __init__(self):\n",
    "        self.head = None\n",
    "        self.tail = None\n",
    "        self.count = 0\n",
    "\n",
    "    def enqueue(self, data):\n",
    "        new_node = Node(data, None, None)\n",
    "        if self.head is None:\n",
    "            self.head = new_node\n",
    "            self.tail = self.head\n",
    "        else:\n",
    "            new_node.prevItem = self.tail\n",
    "            self.tail.nextItem = new_node\n",
    "            self.tail = new_node\n",
    "\n",
    "        self.count += 1\n",
    "\n",
    "    def dequeue(self):\n",
    "        current = self.head\n",
    "        if self.count == 1:\n",
    "            self.count -= 1\n",
    "            self.head = None\n",
    "            self.tail = None\n",
    "        elif self.count > 1:\n",
    "            self.head = self.head.nextItem\n",
    "            self.head.prevItem = None\n",
    "            self.count -= 1\n"
   ]
  },
  {
   "source": [
    "What can we say about the enqueue operation? It is highly inefficient in\n",
    "more than one way. The method has to first shift all the elements by one\n",
    "space. Imagine when there are 1 million elements in a list which need to be\n",
    "shifted around anytime a new element is being added to the queue. This\n",
    "will generally make the enqueue process very slow for large lists."
   ],
   "cell_type": "markdown",
   "metadata": {}
  },
  {
   "cell_type": "code",
   "execution_count": null,
   "metadata": {},
   "outputs": [],
   "source": []
  }
 ]
}