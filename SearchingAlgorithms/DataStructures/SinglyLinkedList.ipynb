{
 "metadata": {
  "language_info": {
   "codemirror_mode": {
    "name": "ipython",
    "version": 3
   },
   "file_extension": ".py",
   "mimetype": "text/x-python",
   "name": "python",
   "nbconvert_exporter": "python",
   "pygments_lexer": "ipython3",
   "version": "3.8.3-final"
  },
  "orig_nbformat": 2,
  "kernelspec": {
   "name": "python3",
   "display_name": "Python 3",
   "language": "python"
  }
 },
 "nbformat": 4,
 "nbformat_minor": 2,
 "cells": [
  {
   "cell_type": "code",
   "execution_count": 39,
   "metadata": {},
   "outputs": [],
   "source": [
    "class Node:\n",
    "    def __init__(self, data):\n",
    "        self.item = data\n",
    "        self.ref = None"
   ]
  },
  {
   "cell_type": "code",
   "execution_count": 40,
   "metadata": {},
   "outputs": [],
   "source": [
    "class singlyLinkedList:\n",
    "    def __init__(self):\n",
    "        self.start_node = None\n",
    "        self.size = 0\n",
    "\n",
    "    def traverse_list(self):\n",
    "        if self.start_node is None:\n",
    "            print('Has no element')\n",
    "            return\n",
    "        else:\n",
    "            n = self.start_node\n",
    "            while n is not None:\n",
    "                print(n.item, \" \")\n",
    "                n = n.ref\n",
    "\n",
    "    def insert_at_start(self, data):\n",
    "        new_node = Node(data)\n",
    "        new_node.ref = self.start_node\n",
    "        self.start_node = new_node\n",
    "        self.size += 1\n",
    "\n",
    "    def insert_at_end(self, data):\n",
    "        new_node = Node(data)\n",
    "        if self.start_node is None:\n",
    "            self.start_node = new_node\n",
    "            return\n",
    "        n = self.start_node\n",
    "        while n.ref is not None:\n",
    "            n = n.ref\n",
    "        n.ref = new_node\n",
    "        self.size += 1\n",
    "\n",
    "    def insert_after_item(self, x, data):\n",
    "\n",
    "        n = self.start_node\n",
    "        print(n.ref)\n",
    "        while n is not None:\n",
    "            if n.item == x:\n",
    "                break\n",
    "            n = n.ref\n",
    "        if n is None:\n",
    "            print(\"Item is not in the list\")\n",
    "        else:\n",
    "            new_node = Node(data)\n",
    "            new_node.ref = n.ref\n",
    "            n.ref = new_node\n",
    "        self.size += 1\n",
    "\n",
    "    def insert_before_item(self, x, data):\n",
    "        if self.start_node is None:\n",
    "            print(\"List has no element\")\n",
    "            return\n",
    "\n",
    "        if x == self.start_node:\n",
    "            new_node = Node(data)\n",
    "            new_node.ref = self.start_node\n",
    "            self.start_node = new_node\n",
    "            return\n",
    "\n",
    "        n = self.start_node\n",
    "        print(n.ref)\n",
    "        while n.ref is not None:\n",
    "            if n.ref.item == x:\n",
    "                break\n",
    "            n = n.ref\n",
    "        if n.ref is None:\n",
    "            print(\"Item is not in the list\")\n",
    "        else:\n",
    "            new_node = Node(data)\n",
    "            new_node.ref = n.ref\n",
    "            n.ref = new_node\n",
    "        self.size += 1\n",
    "\n",
    "    def insert_at_specificIndex(self, index, data):\n",
    "        if index == 1:\n",
    "            new_node = Node(data)\n",
    "            new_node.ref = self.start_node\n",
    "            self.start_node = new_node\n",
    "        i = 1\n",
    "        n = self.start_node\n",
    "        while i < index-1 and n is not None:\n",
    "            n = n.ref\n",
    "            i = i+1\n",
    "        if n is None:\n",
    "            print(\"Index out of bound\")\n",
    "        else:\n",
    "            new_node = Node(data)\n",
    "            new_node.ref = n.ref\n",
    "            n.ref = new_node\n",
    "        self.size += 1\n",
    "\n",
    "    def search_item(self, x):\n",
    "        if self.start_node is None:\n",
    "            print(\"List has no elements\")\n",
    "            return\n",
    "        n = self.start_node\n",
    "        while n is not None:\n",
    "            if n.item == x:\n",
    "                print(\"Item has been found\")\n",
    "                return True\n",
    "            n = n.ref\n",
    "        print(\"Item not found\")\n",
    "        return False\n",
    "\n",
    "    def make_new_linkedList(self):\n",
    "        nums = int(input(\"How many nodes do you want to create: \"))\n",
    "        if nums == 0:\n",
    "            return\n",
    "        for i in range(nums):\n",
    "            value = int(input(\"Enter the value you want in the Linked list: \"))\n",
    "            self.insert_at_end(value)\n",
    "\n",
    "    def delete_at_start(self):\n",
    "        if self.start_node is None:\n",
    "            print(\"List has no items to delete\")\n",
    "            return\n",
    "        self.start_node = self.start_node.ref\n",
    "\n",
    "    def delete_at_end(self):\n",
    "        if self.start_node is None:\n",
    "            print(\"List has no items to delete\")\n",
    "            return \n",
    "\n",
    "        n = self.start_node\n",
    "        while n.ref.ref is not None:\n",
    "            n = n.ref\n",
    "        n.ref = None\n",
    "\n",
    "    def delete_item_by_value(self, x):\n",
    "        if self.start_node is None:\n",
    "            print(\"List has no items to delete\")\n",
    "            return\n",
    "        \n",
    "        if self.start_node.item == x:\n",
    "            self.start_node = self.start_node.ref\n",
    "            return\n",
    "\n",
    "        n = self.start_node\n",
    "        while n.ref is not None:\n",
    "            if n.ref.item == x:\n",
    "                break\n",
    "            n = n.ref\n",
    "\n",
    "        if n.ref is None:\n",
    "            print(\"Item not found in the list\")\n",
    "        else:\n",
    "            n.ref = n.ref.ref\n",
    "\n",
    "    def reverse_Linkedlist(self):\n",
    "        prev = None\n",
    "        n = self.start_node\n",
    "        while n is not None:\n",
    "            next = n.ref\n",
    "            n.ref = prev\n",
    "            prev = n\n",
    "            n = next\n",
    "        self.start_node = prev\n",
    "\n",
    "    #Sorting a LinkedList bt exchanging data using Bubble Sort\n",
    "    def bubble_sort_datachange(self):\n",
    "        end = None\n",
    "        while end != self.start_node:\n",
    "            p = self.start_node\n",
    "            while p.ref != end:\n",
    "                q = p.ref\n",
    "                if p.item > q.item:\n",
    "                    p.item, q.item = q.item, p.item\n",
    "                p = p.ref\n",
    "            end = p\n",
    "\n",
    "    def bubble_sort_linkchange(self):\n",
    "        end = None\n",
    "        while end != self.start_node:\n",
    "            r = p = self.start_node\n",
    "            while p.ref != end:\n",
    "                q = p.ref\n",
    "                if p.item > q.item:\n",
    "                    p.ref = q.ref\n",
    "                    q.ref = p\n",
    "                    if p != self.start_node:\n",
    "                        r.ref = q\n",
    "                    else:\n",
    "                        self.start_node = q\n",
    "                    p, q = q, p\n",
    "                r = p\n",
    "                p = p.ref\n",
    "            end = p\n",
    "\n",
    "    #Merging two sorted linked lists by creating a new list\n",
    "    def merge_helper(self, list2):\n",
    "        merged_list = singlyLinkedList()\n",
    "        merged_list.start_node = self.merge_by_newlist(self.start_node, list2.start_node)\n",
    "\n",
    "        return merged_list\n",
    "    \n",
    "    \n",
    "    def merge_by_newlist(self, p, q):\n",
    "        if p.item < q.item:\n",
    "            startNode = Node(p.item)\n",
    "            p = p.ref\n",
    "        else:\n",
    "            startNode = Node(q.item)\n",
    "            q = q.ref\n",
    "\n",
    "        em = startNode\n",
    "\n",
    "        while p is not None and q is not None:\n",
    "            if p.item <= q.item:\n",
    "                em.ref = Node(p.item)\n",
    "                p = p.ref\n",
    "            else:\n",
    "                em.ref = Node(q.item)\n",
    "                q = q.ref\n",
    "                em = em.ref\n",
    "\n",
    "        return startNode\n"
   ]
  },
  {
   "cell_type": "code",
   "execution_count": 41,
   "metadata": {},
   "outputs": [],
   "source": [
    "new_numbers_linkedList = singlyLinkedList()\n",
    "new_numbers_linkedList.insert_at_start(65)"
   ]
  },
  {
   "cell_type": "code",
   "execution_count": 42,
   "metadata": {},
   "outputs": [],
   "source": [
    "new_numbers_linkedList.insert_at_start(77)\n",
    "new_numbers_linkedList.insert_at_start(85)\n",
    "new_numbers_linkedList.insert_at_start(54)\n",
    "new_numbers_linkedList.insert_at_start(22)"
   ]
  },
  {
   "cell_type": "code",
   "execution_count": 43,
   "metadata": {},
   "outputs": [
    {
     "output_type": "stream",
     "name": "stdout",
     "text": [
      "22  \n54  \n85  \n77  \n65  \n"
     ]
    }
   ],
   "source": [
    "new_numbers_linkedList.traverse_list()"
   ]
  },
  {
   "cell_type": "code",
   "execution_count": 44,
   "metadata": {},
   "outputs": [
    {
     "output_type": "stream",
     "name": "stdout",
     "text": [
      "22  \n54  \n85  \n77  \n65  \n667  \n"
     ]
    }
   ],
   "source": [
    "new_numbers_linkedList.insert_at_end(667)\n",
    "new_numbers_linkedList.traverse_list()"
   ]
  },
  {
   "cell_type": "code",
   "execution_count": 45,
   "metadata": {},
   "outputs": [
    {
     "output_type": "stream",
     "name": "stdout",
     "text": [
      "<__main__.Node object at 0x00000168917496D0>\n22  \n54  \n85  \n27  \n77  \n65  \n667  \n"
     ]
    }
   ],
   "source": [
    "new_numbers_linkedList.insert_after_item(85, 27)\n",
    "new_numbers_linkedList.traverse_list()"
   ]
  },
  {
   "cell_type": "code",
   "execution_count": 46,
   "metadata": {},
   "outputs": [
    {
     "output_type": "stream",
     "name": "stdout",
     "text": [
      "<__main__.Node object at 0x00000168917496D0>\n22  \n54  \n85  \n27  \n77  \n65  \n59  \n667  \n"
     ]
    }
   ],
   "source": [
    "new_numbers_linkedList.insert_before_item(667, 59)\n",
    "new_numbers_linkedList.traverse_list()"
   ]
  },
  {
   "cell_type": "code",
   "execution_count": 47,
   "metadata": {},
   "outputs": [
    {
     "output_type": "stream",
     "name": "stdout",
     "text": [
      "22  \n54  \n5  \n85  \n27  \n77  \n65  \n59  \n667  \n"
     ]
    }
   ],
   "source": [
    "new_numbers_linkedList.insert_at_specificIndex(3, 5)\n",
    "new_numbers_linkedList.traverse_list()"
   ]
  },
  {
   "cell_type": "code",
   "execution_count": 48,
   "metadata": {},
   "outputs": [
    {
     "output_type": "execute_result",
     "data": {
      "text/plain": [
       "9"
      ]
     },
     "metadata": {},
     "execution_count": 48
    }
   ],
   "source": [
    "new_numbers_linkedList.size"
   ]
  },
  {
   "cell_type": "code",
   "execution_count": 49,
   "metadata": {},
   "outputs": [
    {
     "output_type": "stream",
     "name": "stdout",
     "text": [
      "Item has been found\n"
     ]
    },
    {
     "output_type": "execute_result",
     "data": {
      "text/plain": [
       "True"
      ]
     },
     "metadata": {},
     "execution_count": 49
    }
   ],
   "source": [
    "new_numbers_linkedList.search_item(5)"
   ]
  },
  {
   "cell_type": "code",
   "execution_count": 50,
   "metadata": {},
   "outputs": [],
   "source": [
    "new_numbers_linkedList.delete_at_end()"
   ]
  },
  {
   "cell_type": "code",
   "execution_count": 51,
   "metadata": {},
   "outputs": [
    {
     "output_type": "stream",
     "name": "stdout",
     "text": [
      "22  \n54  \n5  \n85  \n27  \n77  \n65  \n59  \n"
     ]
    }
   ],
   "source": [
    "new_numbers_linkedList.traverse_list()"
   ]
  },
  {
   "cell_type": "code",
   "execution_count": 52,
   "metadata": {},
   "outputs": [
    {
     "output_type": "stream",
     "name": "stdout",
     "text": [
      "54  \n5  \n85  \n27  \n77  \n65  \n59  \n"
     ]
    }
   ],
   "source": [
    "new_numbers_linkedList.delete_at_start()\n",
    "new_numbers_linkedList.traverse_list()"
   ]
  },
  {
   "cell_type": "code",
   "execution_count": 53,
   "metadata": {},
   "outputs": [
    {
     "output_type": "stream",
     "name": "stdout",
     "text": [
      "Item not found in the list\n54  \n5  \n85  \n27  \n77  \n65  \n59  \n"
     ]
    }
   ],
   "source": [
    "new_numbers_linkedList.delete_item_by_value(667)\n",
    "new_numbers_linkedList.traverse_list()"
   ]
  },
  {
   "cell_type": "code",
   "execution_count": 54,
   "metadata": {},
   "outputs": [
    {
     "output_type": "stream",
     "name": "stdout",
     "text": [
      "59  \n65  \n77  \n27  \n85  \n5  \n54  \n"
     ]
    }
   ],
   "source": [
    "new_numbers_linkedList.reverse_Linkedlist()\n",
    "new_numbers_linkedList.traverse_list()"
   ]
  },
  {
   "source": [
    "How to sort a LinkedList in Python"
   ],
   "cell_type": "markdown",
   "metadata": {}
  },
  {
   "source": [
    "I will create two randomly arranged linked lists and then sort them using bubble sort and merge them"
   ],
   "cell_type": "markdown",
   "metadata": {}
  },
  {
   "cell_type": "code",
   "execution_count": 60,
   "metadata": {},
   "outputs": [],
   "source": [
    "newLinkedList1 = singlyLinkedList()\n",
    "newLinkedList1.make_new_linkedList()"
   ]
  },
  {
   "cell_type": "code",
   "execution_count": 61,
   "metadata": {},
   "outputs": [],
   "source": [
    "newLinkedList2 = singlyLinkedList()\n",
    "newLinkedList2.make_new_linkedList()"
   ]
  },
  {
   "cell_type": "code",
   "execution_count": 62,
   "metadata": {},
   "outputs": [
    {
     "output_type": "stream",
     "name": "stdout",
     "text": [
      "20  \n23  \n6  \n80  \n48  \n"
     ]
    }
   ],
   "source": [
    "newLinkedList1.traverse_list()"
   ]
  },
  {
   "cell_type": "code",
   "execution_count": 63,
   "metadata": {},
   "outputs": [
    {
     "output_type": "stream",
     "name": "stdout",
     "text": [
      "30  \n23  \n48  \n4  \n3  \n0  \n26  \n"
     ]
    }
   ],
   "source": [
    "newLinkedList2.traverse_list()"
   ]
  },
  {
   "cell_type": "code",
   "execution_count": 64,
   "metadata": {},
   "outputs": [
    {
     "output_type": "stream",
     "name": "stdout",
     "text": [
      "6  \n20  \n23  \n48  \n80  \n"
     ]
    }
   ],
   "source": [
    "newLinkedList1.bubble_sort_datachange()\n",
    "newLinkedList1.traverse_list()"
   ]
  },
  {
   "cell_type": "code",
   "execution_count": 65,
   "metadata": {},
   "outputs": [
    {
     "output_type": "stream",
     "name": "stdout",
     "text": [
      "0  \n3  \n4  \n23  \n26  \n30  \n48  \n"
     ]
    }
   ],
   "source": [
    "newLinkedList2.bubble_sort_linkchange()\n",
    "newLinkedList2.traverse_list()"
   ]
  },
  {
   "cell_type": "code",
   "execution_count": 66,
   "metadata": {},
   "outputs": [
    {
     "output_type": "stream",
     "name": "stdout",
     "text": [
      "0  \n3  \n4  \n23  \n26  \n30  \n48  \n"
     ]
    }
   ],
   "source": [
    "newLinkedList3 = newLinkedList1.merge_helper(newLinkedList2)\n",
    "newLinkedList3.traverse_list()"
   ]
  },
  {
   "cell_type": "code",
   "execution_count": null,
   "metadata": {},
   "outputs": [],
   "source": []
  }
 ]
}