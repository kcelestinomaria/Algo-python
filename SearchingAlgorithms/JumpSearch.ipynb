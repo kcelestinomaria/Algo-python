{
 "metadata": {
  "language_info": {
   "codemirror_mode": {
    "name": "ipython",
    "version": 3
   },
   "file_extension": ".py",
   "mimetype": "text/x-python",
   "name": "python",
   "nbconvert_exporter": "python",
   "pygments_lexer": "ipython3",
   "version": "3.8.3-final"
  },
  "orig_nbformat": 2,
  "kernelspec": {
   "name": "python3",
   "display_name": "Python 3",
   "language": "python"
  }
 },
 "nbformat": 4,
 "nbformat_minor": 2,
 "cells": [
  {
   "cell_type": "code",
   "execution_count": 1,
   "metadata": {},
   "outputs": [],
   "source": [
    "import math"
   ]
  },
  {
   "cell_type": "code",
   "execution_count": 7,
   "metadata": {},
   "outputs": [],
   "source": [
    "def jumpSearch(array, value):\n",
    "    length = len(array)\n",
    "    jump_size = int(math.sqrt(length))\n",
    "    left, right = 0, 0\n",
    "\n",
    "    while left < length and array[left] <= value:\n",
    "        right = min(length - 1, left + jump_size)\n",
    "\n",
    "        if array[left] <= value and array[right] >= value:\n",
    "            break\n",
    "        left += jump_size\n",
    "\n",
    "    if left >= length or array[left] > value:\n",
    "        return -1\n",
    "\n",
    "    right = min(length - 1, right)\n",
    "    i = left\n",
    "    while i <= right and array[i] <= value:\n",
    "        if array[i] == value:\n",
    "            return i\n",
    "        i += 1\n",
    "    return -1\n"
   ]
  },
  {
   "source": [
    "Jump search would first determine the jump size by computing math.sqrt(len(lys)). Since we have 9 elements, the jump size would be √9 = 3.\n",
    "Next, we compute the value of the right variable, which is the minimum of the length of the array minus 1, or the value of left+jump, which in our case would be 0+3= 3. Since 3 is smaller than 8 we use 3 as the value of right.\n",
    "Now we check whether our search element, 5, is between lys[0] and lys[3]. Since 5 is not between 1 and 4, we move on.\n",
    "Next, we do the calculations again and check whether our search element is between lys[3] and lys[6], where 6 is 3+jump. Since 5 is between 4 and 7, we do a linear search on the elements between lys[3] and lys[6] and return the index of our element as:\n",
    "4\n",
    "The time complexity of jump search is O(√n), where √n is the jump size, and n is the length of the list, placing jump search between the linear search and binary search algorithms in terms of efficiency.\n",
    "\n",
    "The single most important advantage of jump search when compared to binary search is that it does not rely on the division operator (/).\n",
    "\n",
    "In most CPUs, using the division operator is costly when compared to other basic arithmetic operations (addition, subtraction, and multiplication), because the implementation of the division algorithm is iterative.\n",
    "\n",
    "The cost by itself is very small, but when the number of elements to search through is very large, and the number of division operations that we need to perform increases, the cost can add up incrementally. Therefore jump search is better than binary search when there is a large number of elements in a system where even a small increase in speed matters."
   ],
   "cell_type": "markdown",
   "metadata": {}
  },
  {
   "cell_type": "code",
   "execution_count": 6,
   "metadata": {},
   "outputs": [
    {
     "output_type": "stream",
     "name": "stdout",
     "text": [
      "7\n"
     ]
    }
   ],
   "source": [
    "print(jumpSearch([1, 5, 6, 7, 9, 99, 101, 299, 309], 299))"
   ]
  },
  {
   "cell_type": "code",
   "execution_count": null,
   "metadata": {},
   "outputs": [],
   "source": []
  }
 ]
}