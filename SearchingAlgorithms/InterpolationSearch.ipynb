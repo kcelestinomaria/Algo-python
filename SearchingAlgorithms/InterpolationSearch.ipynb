{
 "metadata": {
  "language_info": {
   "codemirror_mode": {
    "name": "ipython",
    "version": 3
   },
   "file_extension": ".py",
   "mimetype": "text/x-python",
   "name": "python",
   "nbconvert_exporter": "python",
   "pygments_lexer": "ipython3",
   "version": "3.8.3-final"
  },
  "orig_nbformat": 2,
  "kernelspec": {
   "name": "python3",
   "display_name": "Python 3",
   "language": "python"
  }
 },
 "nbformat": 4,
 "nbformat_minor": 2,
 "cells": [
  {
   "source": [
    "InterpolationSearch searches by calculating the value of index through the array/list given to it. It calculates the probable position of the needed element using a formula assigned to the index."
   ],
   "cell_type": "markdown",
   "metadata": {}
  },
  {
   "cell_type": "code",
   "execution_count": 2,
   "metadata": {},
   "outputs": [],
   "source": [
    "def interpolationSearch(array, value):\n",
    "    low = 0\n",
    "    high = (len(array) - 1)\n",
    "\n",
    "    while low <= high and value >= array[low] and value <= array[high]:\n",
    "        index = low + int(((float(high - low) / \n",
    "        (array[high] - array[low])) *   (value - array[low])))\n",
    "\n",
    "        if array[index] == value:\n",
    "            return index\n",
    "\n",
    "        if array[index] < value:\n",
    "            low = index + 1\n",
    "        else:\n",
    "            high = index - 1\n",
    "\n",
    "    return -1"
   ]
  },
  {
   "cell_type": "code",
   "execution_count": 3,
   "metadata": {},
   "outputs": [
    {
     "output_type": "stream",
     "name": "stdout",
     "text": [
      "4\n"
     ]
    }
   ],
   "source": [
    "array = [2, 5, 77, 888, 999, 1000, 2000]\n",
    "print(interpolationSearch(array, 999))"
   ]
  }
 ]
}