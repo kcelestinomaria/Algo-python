{
  "nbformat": 4,
  "nbformat_minor": 0,
  "metadata": {
    "colab": {
      "name": "PytorchSingleNeuralNetworkModel.ipynb",
      "private_outputs": true,
      "provenance": [],
      "authorship_tag": "ABX9TyOkVUNIZhpkOY3MRi/X5ig9",
      "include_colab_link": true
    },
    "kernelspec": {
      "name": "python3",
      "display_name": "Python 3"
    }
  },
  "cells": [
    {
      "cell_type": "markdown",
      "metadata": {
        "id": "view-in-github",
        "colab_type": "text"
      },
      "source": [
        "<a href=\"https://colab.research.google.com/github/kcelestinomaria/Algo-python/blob/master/PytorchSingleNeuralNetworkModel.ipynb\" target=\"_parent\"><img src=\"https://colab.research.google.com/assets/colab-badge.svg\" alt=\"Open In Colab\"/></a>"
      ]
    },
    {
      "cell_type": "markdown",
      "metadata": {
        "id": "lnLc_ZFeiC3d"
      },
      "source": [
        "You work as an assistant of the mayor of Somerville and the HR department has asked you to build a model capable of predicting whether a person is happy with the current administration based on their satisfaction with the city's services. To do so, you have decided to build a single-layer neural network using PyTorch, using the response of previous surveys."
      ]
    },
    {
      "cell_type": "code",
      "metadata": {
        "id": "ZniPKJkGEk_K"
      },
      "source": [
        "import pandas as pd\r\n",
        "import torch\r\n",
        "import torch.nn as nn\r\n",
        "import matplotlib.pyplot as plt\r\n"
      ],
      "execution_count": null,
      "outputs": []
    },
    {
      "cell_type": "code",
      "metadata": {
        "id": "brscB0Q_FgWH"
      },
      "source": [
        "data = pd.read_csv('/content/SomervilleHappinessSurvey2015.csv', encoding='utf-16')"
      ],
      "execution_count": null,
      "outputs": []
    },
    {
      "cell_type": "code",
      "metadata": {
        "id": "ei_gn1a1Fs1a"
      },
      "source": [
        "data.head"
      ],
      "execution_count": null,
      "outputs": []
    },
    {
      "cell_type": "code",
      "metadata": {
        "id": "zCkAiPq3G_Rn"
      },
      "source": [
        "x = torch.tensor(data.iloc[:, 1:].values).float()\r\n",
        "y = torch.tensor(data.iloc[:, :1].values).float()"
      ],
      "execution_count": null,
      "outputs": []
    },
    {
      "cell_type": "markdown",
      "metadata": {
        "id": "uh4JoCSvHarB"
      },
      "source": [
        "Next, let us create the model architecture"
      ]
    },
    {
      "cell_type": "code",
      "metadata": {
        "id": "xwVZGOZaHZpQ"
      },
      "source": [
        "model = nn.Sequential(nn.Linear(6, 1),\r\n",
        "                      nn.Sigmoid())"
      ],
      "execution_count": null,
      "outputs": []
    },
    {
      "cell_type": "code",
      "metadata": {
        "id": "2bm8FF35HpJw"
      },
      "source": [
        "loss_function = torch.nn.MSELoss()\r\n",
        "optimizer = torch.optim.Adam(model.parameters(), lr=0.01)"
      ],
      "execution_count": null,
      "outputs": []
    },
    {
      "cell_type": "code",
      "metadata": {
        "id": "57b-EV2CH4HL"
      },
      "source": [
        "losses = []\r\n",
        "for i in range(100):\r\n",
        "  y_pred = model(x)\r\n",
        "  loss = loss_function(y_pred, y)\r\n",
        "  losses.append(loss.item())\r\n",
        "  optimizer.zero_grad()\r\n",
        "  loss.backward()\r\n",
        "  optimizer.step()\r\n",
        "  if i%10 == 0:\r\n",
        "    print(loss.item)"
      ],
      "execution_count": null,
      "outputs": []
    },
    {
      "cell_type": "code",
      "metadata": {
        "id": "J52486akJMkU"
      },
      "source": [
        "plt.plot(range(0, 100), losses)\r\n",
        "plt.show()"
      ],
      "execution_count": null,
      "outputs": []
    },
    {
      "cell_type": "markdown",
      "metadata": {
        "id": "RN8puRxDiNmt"
      },
      "source": [
        "This means that the training process is able to minimize the loss function, which means that the resulting model will likely be capable of mapping the relationship between the satisfaction of citizens with the city services and whether they are happy with the administration."
      ]
    },
    {
      "cell_type": "code",
      "metadata": {
        "id": "_RWzZmLtiQhP"
      },
      "source": [
        ""
      ],
      "execution_count": null,
      "outputs": []
    },
    {
      "cell_type": "markdown",
      "metadata": {
        "id": "tYJIXImpjNM1"
      },
      "source": [
        "Deep learning is a subset of machine learning that was inspired by the biological structure of human brains. It uses deep neural networks to solve complex data problems through the use of vast amounts of data. Even though the theory was developed decades ago, it has been used recently thanks to advances in hardware and software that allow us to collect and process millions of pieces of data.\r\n",
        "\r\n",
        "With the popularity of deep learning solutions, many deep learning libraries have been developed. Among them, one of the most recent ones is PyTorch. PyTorch uses a C++ backend, which helps speed up computation, while having a Python frontend to keep the library easy to use.\r\n",
        "\r\n",
        "It uses tensors to store data, which are n-ranked matrix-like structures that can be run on GPUs to speed up processing. It offers three main elements that are highly useful for creating complex neural network architectures with little effort.\r\n",
        "\r\n",
        "The autograd library can compute the derivatives of a function, which are used as the gradients to optimize the weights and biases of a model. Moreover, the nn module helps you to easily define the model's architecture as a sequence of predefined modules, as well as to determine the loss function to be used to measure the model. Finally, the optim package is used to select the optimization algorithm to be used to update the parameters, considering the gradients calculated previously.\r\n",
        "\r\n",
        "In the next chapter, we will learn about the building blocks of a neural network. We will cover the three types of learning processes, as well as the three most common types of neural networks. For each neural network, we will learn how the network architecture is structured, as well as how the training process works. Finally, we will learn about the importance of data preparation and solve a regression data problem."
      ]
    },
    {
      "cell_type": "code",
      "metadata": {
        "id": "PDBDGCF3jOwL"
      },
      "source": [
        ""
      ],
      "execution_count": null,
      "outputs": []
    }
  ]
}