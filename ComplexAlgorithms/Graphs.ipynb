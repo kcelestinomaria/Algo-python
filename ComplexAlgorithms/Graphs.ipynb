{
 "metadata": {
  "language_info": {
   "codemirror_mode": {
    "name": "ipython",
    "version": 3
   },
   "file_extension": ".py",
   "mimetype": "text/x-python",
   "name": "python",
   "nbconvert_exporter": "python",
   "pygments_lexer": "ipython3",
   "version": "3.8.3-final"
  },
  "orig_nbformat": 2,
  "kernelspec": {
   "name": "python3",
   "display_name": "Python 3",
   "language": "python"
  }
 },
 "nbformat": 4,
 "nbformat_minor": 2,
 "cells": [
  {
   "source": [
    "Implementing graphs in Python, we will start by use of adjacency lists(dicts in the best case) to implement graphs\n",
    "\n",
    "Using a list for the representation is quite restrictive because we lack the ability to directly\n",
    "use the vertex labels. A dictionary is therefore more suited. To represent the graph in the\n",
    "diagram, we can use the following statements"
   ],
   "cell_type": "markdown",
   "metadata": {}
  },
  {
   "cell_type": "code",
   "execution_count": 2,
   "metadata": {},
   "outputs": [],
   "source": [
    "graph = dict()\n",
    "graph['A'] = ['B', 'C']\n",
    "graph['B'] = ['E', 'A']\n",
    "graph['C'] = ['A', 'B', 'E', 'F']\n",
    "graph['E'] = ['B', 'C']\n",
    "graph['F'] = ['C']"
   ]
  },
  {
   "source": [
    "Now, above, we can easily say that vertex A has the adjacent vertices B and C"
   ],
   "cell_type": "markdown",
   "metadata": {}
  },
  {
   "source": [
    "Another approach by which a graph can be represented is by using an adjacency matrix. A\n",
    "matrix is a two-dimensional array. The idea here is to represent the cells with a 1 or 0\n",
    "depending on whether two vertices are connected by an edge"
   ],
   "cell_type": "markdown",
   "metadata": {}
  },
  {
   "source": [
    "Given an adjacency list, it should be possible to create an adjacency matrix. A sorted list of\n",
    "keys of graph is required"
   ],
   "cell_type": "markdown",
   "metadata": {}
  },
  {
   "cell_type": "code",
   "execution_count": 3,
   "metadata": {},
   "outputs": [],
   "source": [
    "matrix_elements = sorted(graph.keys())"
   ]
  },
  {
   "cell_type": "code",
   "execution_count": 4,
   "metadata": {},
   "outputs": [],
   "source": [
    "cols = rows = len(matrix_elements)"
   ]
  },
  {
   "source": [
    "The length of the keys is used to provide the dimensions of the matrix which are stored in\n",
    "cols and rows. \n",
    "\n",
    "These values in cols and rows are equal"
   ],
   "cell_type": "markdown",
   "metadata": {}
  },
  {
   "cell_type": "code",
   "execution_count": 7,
   "metadata": {},
   "outputs": [],
   "source": [
    "adjacency_matrix = [[0 for x in range(rows)] for y in range(cols)]\n",
    "edges_list = []"
   ]
  },
  {
   "source": [
    "We then set up a cols by rows array, filling it with zeros. The edges_list variable will\n",
    "store the tuples that form the edges of in the graph. For example, an edge between node A\n",
    "and B will be stored as (A, B)"
   ],
   "cell_type": "markdown",
   "metadata": {}
  },
  {
   "source": [
    "The multidimensional array is filled using a nested for loop"
   ],
   "cell_type": "markdown",
   "metadata": {}
  },
  {
   "cell_type": "code",
   "execution_count": 8,
   "metadata": {},
   "outputs": [],
   "source": [
    "for key in matrix_elements:\n",
    "    for adjacent_node in graph[key]:\n",
    "        edges_list.append((key, adjacent_node))"
   ]
  },
  {
   "source": [
    "The adjacent nodes/vertices of a vertex are obtained by graph[key]. The key in combination with the\n",
    "adjacent_node is then used to create the tuple stored in edges_list"
   ],
   "cell_type": "markdown",
   "metadata": {}
  },
  {
   "cell_type": "code",
   "execution_count": 9,
   "metadata": {},
   "outputs": [
    {
     "output_type": "stream",
     "name": "stdout",
     "text": [
      "[('A', 'B'), ('A', 'C'), ('B', 'E'), ('B', 'A'), ('C', 'A'), ('C', 'B'), ('C', 'E'), ('C', 'F'), ('E', 'B'), ('E', 'C'), ('F', 'C')]\n"
     ]
    }
   ],
   "source": [
    "print(edges_list)"
   ]
  },
  {
   "source": [
    "What needs to be done now is to fill the our multidimensional array(adjacency_matrix) by using 1 to mark the\n",
    "presence of an edge"
   ],
   "cell_type": "markdown",
   "metadata": {}
  },
  {
   "cell_type": "code",
   "execution_count": 10,
   "metadata": {},
   "outputs": [],
   "source": [
    "for edge in edges_list:\n",
    "    index_of_first_index = matrix_elements.index(edge[0])\n",
    "    index_of_second_index = matrix_elements.index(edge[1])\n",
    "    adjacency_matrix[index_of_first_index][index_of_second_index] = 1"
   ]
  },
  {
   "cell_type": "code",
   "execution_count": 11,
   "metadata": {},
   "outputs": [
    {
     "output_type": "stream",
     "name": "stdout",
     "text": [
      "[[0, 1, 1, 0, 0], [1, 0, 0, 1, 0], [1, 1, 0, 1, 1], [0, 1, 1, 0, 0], [0, 0, 1, 0, 0]]\n"
     ]
    }
   ],
   "source": [
    "print(adjacency_matrix)"
   ]
  },
  {
   "source": [
    "Graph traversal\n",
    "Since graphs don't necessarily have an ordered structure, traversing a graph can be more\n",
    "involving. Traversal normally involves keeping track of which nodes or vertices have\n",
    "already been visited and which ones have not. A common strategy is to follow a path until a\n",
    "dead end is reached, then walking back up until there is a point where there is an\n",
    "alternative path. We can also iteratively move from one node to another in order to traverse\n",
    "the full graph or part of it."
   ],
   "cell_type": "markdown",
   "metadata": {}
  },
  {
   "source": [
    "For graph traversal, let us use another graph below(Adjacency list built for it already)"
   ],
   "cell_type": "markdown",
   "metadata": {}
  },
  {
   "cell_type": "code",
   "execution_count": 12,
   "metadata": {},
   "outputs": [],
   "source": [
    "graph = dict()\n",
    "graph['A'] = ['B', 'G', 'D']\n",
    "graph['B'] = ['A', 'F', 'E']\n",
    "graph['C'] = ['F', 'H']\n",
    "graph['D'] = ['F', 'A']\n",
    "graph['E'] = ['B', 'G']\n",
    "graph['F'] = ['B', 'D', 'C']\n",
    "graph['G'] = ['A', 'E']\n",
    "graph['H'] = ['C']"
   ]
  },
  {
   "source": [
    "In trying to traverse the above graph using the breadth-first approach, we will first employ the use of a queue. We will create an algorithm that creates a list to store the nodes that have been visited as the traversal process proceeds. We shall start our traversal from Node A"
   ],
   "cell_type": "markdown",
   "metadata": {}
  },
  {
   "cell_type": "code",
   "execution_count": 13,
   "metadata": {},
   "outputs": [],
   "source": [
    "from collections import deque\n",
    "\n",
    "def breadth_first_search(graph, root):\n",
    "    visited_vertices = list()\n",
    "    graph_queue = deque([root])\n",
    "    visited_vertices.append(root)\n",
    "    node = root\n",
    "\n",
    "    while len(graph_queue) > 0:\n",
    "        node = graph_queue.popleft()\n",
    "        adj_nodes = graph[node]\n",
    "        remaining_elements = set(adj_nodes).difference(set(visited_vertices))\n",
    "\n",
    "    if len(remaining_elements) > 0:\n",
    "        for elem in sorted(remaining_elements):\n",
    "            visited_vertices.append(elem)\n",
    "            graph_queue.append(elem)\n",
    "        "
   ]
  },
  {
   "source": [
    "Next, we will use depth-first search to traverse the graph. It involves traversing the depth of any particular path in the graph before traversing its breadth. As such, child nodes are visited first before the sibling nodes.\n",
    "Depth-first search works on finite graphs and requires the use of a stack to maintain the state of the algorithm "
   ],
   "cell_type": "markdown",
   "metadata": {}
  },
  {
   "cell_type": "code",
   "execution_count": 14,
   "metadata": {},
   "outputs": [],
   "source": [
    "def depth_first_search(graph, root):\n",
    "    visited_vertices = list()\n",
    "    graph_stack = list()\n",
    "\n",
    "    graph_stack.append(root)\n",
    "    node = root #Holds the first node in the stack\n",
    "\n",
    "    while len(graph_stack) > 0:\n",
    "        if node not in visited_vertices:\n",
    "            visited_vertices.append(node)\n",
    "\n",
    "        adj_nodes = graph[node]\n",
    "\n",
    "        if set(adj_nodes).issubset(set(visited_vertices)):\n",
    "            graph_stack.pop()\n",
    "\n",
    "        if len(graph_stack) > 0:\n",
    "            node = graph_stack[-1]\n",
    "            continue\n",
    "        else:\n",
    "            remaining_elements = set(adj_nodes).difference(set(visited_vertices))\n",
    "\n",
    "    first_adj_node = sorted(remaining_elements)[0]\n",
    "    graph_stack.append(first_adj_node)\n",
    "    node = first_adj_node\n",
    "    return visited_vertices\n",
    "    "
   ]
  },
  {
   "cell_type": "code",
   "execution_count": null,
   "metadata": {},
   "outputs": [],
   "source": []
  }
 ]
}