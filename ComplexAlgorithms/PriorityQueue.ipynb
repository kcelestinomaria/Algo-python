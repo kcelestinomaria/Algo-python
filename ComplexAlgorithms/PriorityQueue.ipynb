{
 "metadata": {
  "language_info": {
   "codemirror_mode": {
    "name": "ipython",
    "version": 3
   },
   "file_extension": ".py",
   "mimetype": "text/x-python",
   "name": "python",
   "nbconvert_exporter": "python",
   "pygments_lexer": "ipython3",
   "version": "3.8.3-final"
  },
  "orig_nbformat": 2,
  "kernelspec": {
   "name": "python3",
   "display_name": "Python 3",
   "language": "python"
  }
 },
 "nbformat": 4,
 "nbformat_minor": 2,
 "cells": [
  {
   "source": [
    "We are going to implement a Heap that will represent the Priority Queue we want to create. For this case, we are going to implement a min Heap. A max Heap can be implemented the same way, we just need to revert the logic"
   ],
   "cell_type": "markdown",
   "metadata": {}
  },
  {
   "cell_type": "code",
   "execution_count": 1,
   "metadata": {},
   "outputs": [],
   "source": [
    "class Heap:\n",
    "    def __init__(self):\n",
    "        self.heap = [0]\n",
    "        self.size = 0\n",
    "\n",
    "    def float(self, k):\n",
    "        #We are going to loop until we have reached the root node so that we can            #keep floating the\n",
    "        #element up as high as it needs to go. Since we are using integer                   #division, as soon as we get\n",
    "        #below 2, the loop will break out\n",
    "        while k//2 > 0:\n",
    "            #Below, we compare the parent and the child, if the child is less              #than the parent, it takes the position of the parent\n",
    "            if self.heap[k] < self.heap[k//2]:\n",
    "                self.heap[k], self.heap[k//2] = self.heap[k//2], self.heap[k]\n",
    "                #We move up the tree by dividing by 2:\n",
    "            k //= 2\n",
    "\n",
    "    #The float method above just ensures that the elements are ordered properly,\n",
    "    #We will then call it from our insert method\n",
    "    def insert(self, item):\n",
    "        self.heap.append(item)\n",
    "        self.size += 1\n",
    "        self.float(self.size)\n",
    "        #The last line above calls the float() method to reorganize the heap as             #necessary\n",
    "\n",
    "    def minindex(self, k):\n",
    "        #Below is to avoid that we pass the end of the list\n",
    "        if k * 2 + 1 > self.size:\n",
    "            return k * 2\n",
    "        elif self.heap[k * 2] < self.heap[k * 2 + 1]:\n",
    "            return k * 2\n",
    "        else:\n",
    "            return k * 2 + 1\n",
    "\n",
    "    def sink(self, k):\n",
    "        #As before, we are going to loop so that we can sink our element down as           #far as is needed\n",
    "        while k * 2 <= self.size:\n",
    "            #Next we need to know which of the left or the right child to compare           #against. This is where\n",
    "            #we make use of the minindex() function\n",
    "            mi = self.minindex(k)\n",
    "\n",
    "        #As we did in the float() method, we compare parent and child to see                #whether we need to\n",
    "            #swap:\n",
    "        if self.heap[k] > self.heap[mi]:\n",
    "            self.heap[k], self.heap[mi] = self.heap[mi], self.heap[k]\n",
    "\n",
    "        #And we need to make sure that we move down the tree so that we don't get           #stuck in a loop\n",
    "        k = mi\n",
    "\n",
    "    #The only thing remaining now is to implement pop() itself. \n",
    "    # This is very straightforward as          \n",
    "    # the grunt work is performed by the sink() method\n",
    "    def pop(self):\n",
    "        item = self.heap[1]\n",
    "        self.heap[1] = self.heap[self.size]\n",
    "        self.size -= 1\n",
    "        self.heap.pop()\n",
    "        self.sink(1)\n",
    "        return item\n"
   ]
  },
  {
   "cell_type": "code",
   "execution_count": 2,
   "metadata": {},
   "outputs": [],
   "source": [
    "testHeap = Heap()\n",
    "for i in (2, 4, 5, 6, 7, 3, 78, 45, 76, 33, 23, 20, 77):\n",
    "    testHeap.insert(i)"
   ]
  },
  {
   "cell_type": "code",
   "execution_count": 4,
   "metadata": {},
   "outputs": [
    {
     "output_type": "stream",
     "name": "stdout",
     "text": [
      "[0, 2, 4, 3, 6, 7, 5, 78, 45, 76, 33, 23, 20, 77]\n"
     ]
    }
   ],
   "source": [
    "print(testHeap.heap)"
   ]
  },
  {
   "cell_type": "code",
   "execution_count": null,
   "metadata": {},
   "outputs": [],
   "source": [
    "for i in range(79):\n",
    "    n = testHeap.pop()\n",
    "    print(n)\n",
    "    print(testHeap.heap)"
   ]
  },
  {
   "cell_type": "code",
   "execution_count": null,
   "metadata": {},
   "outputs": [],
   "source": []
  }
 ]
}