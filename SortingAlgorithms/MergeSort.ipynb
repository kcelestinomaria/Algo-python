{
 "metadata": {
  "language_info": {
   "codemirror_mode": {
    "name": "ipython",
    "version": 3
   },
   "file_extension": ".py",
   "mimetype": "text/x-python",
   "name": "python",
   "nbconvert_exporter": "python",
   "pygments_lexer": "ipython3",
   "version": "3.8.3-final"
  },
  "orig_nbformat": 2,
  "kernelspec": {
   "name": "python3",
   "display_name": "Python 3",
   "language": "python"
  }
 },
 "nbformat": 4,
 "nbformat_minor": 2,
 "cells": [
  {
   "source": [
    "We are going to implement the Merge Sort Algorithm using the top-down approach in Python"
   ],
   "cell_type": "markdown",
   "metadata": {}
  },
  {
   "cell_type": "code",
   "execution_count": 1,
   "metadata": {},
   "outputs": [],
   "source": [
    "def merge_sort(array, left_index, right_index):\n",
    "    if left_index >= right_index:\n",
    "        return\n",
    "    \n",
    "    middle = (left_index + right_index) // 2\n",
    "    #We used the // operator to be explicit that we want integer values \n",
    "    # for our indices\n",
    "    merge_sort(array, left_index, middle)\n",
    "    merge_sort(array, middle + 1, right_index)\n",
    "\n",
    "    merge(array, left_index, right_index, middle)\n",
    "\n",
    "    #Above, we called the merge() method last to make sure that \n",
    "    #all the divisions of the array happen before we start the sorting"
   ]
  },
  {
   "cell_type": "code",
   "execution_count": 9,
   "metadata": {},
   "outputs": [],
   "source": [
    "#Now, we define the merge() method\n",
    "def merge(array, left_index, right_index, middle):\n",
    "\n",
    "    #First, we make copies of both the arrays that we are trying to merge\n",
    "    #The (middle) parameter is non-inclusive, so we have to increase by 1\n",
    "\n",
    "    left_copy = array[left_index : middle + 1]\n",
    "    right_copy = array[middle + 1 : right_index]\n",
    "\n",
    "    #We will then initiate values for variables that we will use to keep track \n",
    "    # of where we are in each array\n",
    "    left_copy_index = 0\n",
    "    right_copy_index = 0\n",
    "\n",
    "    sorted_index = left_index\n",
    "\n",
    "    #We will then need to go through both array copies\n",
    "    while left_copy_index < len(left_copy) and right_copy_index < len(right_copy):\n",
    "        #If our left_copy has the smaller element when \n",
    "        # the elements in both copies are compared, put that element in \n",
    "        # the sorted_index and then move forward in the left_copy\n",
    "        #  by incrementing the pointer\n",
    "        if left_copy[left_copy_index] <= right_copy[left_copy_index]:\n",
    "            array[sorted_index] = left_copy[left_copy_index]\n",
    "            left_copy_index = left_copy_index + 1\n",
    "\n",
    "        #Do the vice versa if the smaller element is located in the right_copy\n",
    "        else:\n",
    "            array[sorted_index] = right_copy[right_copy_index]\n",
    "            right_copy_index = right_copy_index + 1\n",
    "\n",
    "        sorted_index = sorted_index + 1\n",
    "\n",
    "        #In the case that we run out of elements either in left_copy or right_copy\n",
    "        #, we will go through the remaining elements and add them\n",
    "        while left_copy_index < len(left_copy):\n",
    "            array[sorted_index] = left_copy[left_copy_index]\n",
    "            left_copy_index = left_copy_index + 1\n",
    "            sorted_index = sorted_index + 1\n",
    "\n",
    "        while right_copy_index < len(right_copy):\n",
    "            array[sorted_index] = right_copy[right_copy_index]\n",
    "            right_copy_index = right_copy_index + 1\n",
    "            sorted_index = sorted_index + 1\n",
    "\n",
    "        return array"
   ]
  },
  {
   "cell_type": "code",
   "execution_count": 10,
   "metadata": {},
   "outputs": [],
   "source": [
    "array = [33, 4, 5, 1, 3, 9, 0, 44, 7]\n"
   ]
  },
  {
   "cell_type": "code",
   "execution_count": 11,
   "metadata": {},
   "outputs": [
    {
     "output_type": "stream",
     "name": "stdout",
     "text": [
      "[1, 33, 4, 5, 3, 9, 0, 44, 7]\n"
     ]
    }
   ],
   "source": [
    "merge_sort(array, 0,  len(array)- 1)\n",
    "p"
   ]
  },
  {
   "source": [
    "Next, we will implement a Merge Sort Algorithm that sorts custom objects"
   ],
   "cell_type": "markdown",
   "metadata": {}
  },
  {
   "cell_type": "code",
   "execution_count": 12,
   "metadata": {},
   "outputs": [],
   "source": [
    "class Car:\n",
    "    def __init__(self, make, model, year):\n",
    "        self.make = make\n",
    "        self.model = model\n",
    "        self.year = year\n",
    "\n",
    "    def __str__(self):\n",
    "        return str.format(\"Make {}, Model {}, Year {}\", self.make, self.model,                  self.year)\n",
    "        "
   ]
  },
  {
   "cell_type": "code",
   "execution_count": 18,
   "metadata": {},
   "outputs": [],
   "source": [
    "def merge(array, left_index, right_index, middle, comparison_function):\n",
    "    left_copy = array[left_index : middle + 1]\n",
    "    right_copy = array[middle + 1 : right_index + 1]\n",
    "\n",
    "    left_copy_index = right_copy_index = 0\n",
    "    sorted_index = left_index\n",
    "\n",
    "    while left_copy_index < len(left_copy) and right_copy_index < len(right_copy):\n",
    "\n",
    "        #We use the comparison function instead of a simple comparison operator\n",
    "        if comparison_function(left_copy[left_copy_index],\n",
    "         right_copy[right_copy_index]):\n",
    "            array[sorted_index] = left_copy[left_copy_index]\n",
    "            left_copy_index = left_copy_index + 1\n",
    "        else:\n",
    "            array[sorted_index] = right_copy[right_copy_index]\n",
    "            right_copy_index = right_copy_index + 1\n",
    "\n",
    "        sorted_index = sorted_index + 1\n",
    "\n",
    "    while left_copy_index < len(left_copy):\n",
    "        array[sorted_index] = left_copy[left_copy_index]\n",
    "        left_copy_index = left_copy_index + 1\n",
    "        sorted_index = sorted_index + 1\n",
    "\n",
    "    while right_copy_index < len(right_copy):\n",
    "        array[sorted_index] = right_copy[right_copy_index]\n",
    "        right_copy_index = right_copy_index + 1\n",
    "        sorted_index = sorted_index + 1\n",
    "\n",
    "\n",
    "def merge_sort(array, left_index, right_index, comparison_function):\n",
    "    if left_index >= right_index:\n",
    "        return\n",
    "\n",
    "    middle = (left_index + right_index) // 2\n",
    "    merge_sort(array, left_index, middle, comparison_function)\n",
    "    merge_sort(array, middle + 1, right_index, comparison_function)\n",
    "    merge(array, left_index, right_index, middle, comparison_function)\n",
    "\n",
    "    "
   ]
  },
  {
   "cell_type": "code",
   "execution_count": 24,
   "metadata": {},
   "outputs": [],
   "source": [
    "car1 = Car(\"Alfa Romeo\", \"33 SportWagon\", 2012)\n",
    "car2 = Car(\"Chevrolet\", \"Cruze Hatchback\", 2011)\n",
    "car3 = Car(\"Corvette\", \"C6 Couple\", 2004)\n",
    "car4 = Car(\"Cadillac\", \"Seville Sedan\", 1995)"
   ]
  },
  {
   "cell_type": "code",
   "execution_count": 25,
   "metadata": {},
   "outputs": [],
   "source": [
    "array = [car1, car2, car3, car4]"
   ]
  },
  {
   "cell_type": "code",
   "execution_count": 26,
   "metadata": {},
   "outputs": [
    {
     "output_type": "stream",
     "name": "stdout",
     "text": [
      "Cars sorted by year:\nMake Cadillac, Model Seville Sedan, Year 1995\nMake Corvette, Model C6 Couple, Year 2004\nMake Chevrolet, Model Cruze Hatchback, Year 2011\nMake Alfa Romeo, Model 33 SportWagon, Year 2012\n\nCars sorted by make:\nMake Alfa Romeo, Model 33 SportWagon, Year 2012\nMake Cadillac, Model Seville Sedan, Year 1995\nMake Chevrolet, Model Cruze Hatchback, Year 2011\nMake Corvette, Model C6 Couple, Year 2004\n"
     ]
    }
   ],
   "source": [
    "merge_sort(array, 0, len(array) -1, lambda carA, carB: carA.year < carB.year)\n",
    "print(\"Cars sorted by year:\")\n",
    "for car in array:\n",
    "    print(car)\n",
    "\n",
    "print()\n",
    "merge_sort(array, 0, len(array) -1, lambda carA, carB: carA.make < carB.make)\n",
    "print(\"Cars sorted by make:\")\n",
    "for car in array:\n",
    "    print(car)"
   ]
  },
  {
   "cell_type": "code",
   "execution_count": null,
   "metadata": {},
   "outputs": [],
   "source": []
  }
 ]
}