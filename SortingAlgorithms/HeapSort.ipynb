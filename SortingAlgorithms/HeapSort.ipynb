{
 "metadata": {
  "language_info": {
   "codemirror_mode": {
    "name": "ipython",
    "version": 3
   },
   "file_extension": ".py",
   "mimetype": "text/x-python",
   "name": "python",
   "nbconvert_exporter": "python",
   "pygments_lexer": "ipython3",
   "version": "3.8.3-final"
  },
  "orig_nbformat": 2,
  "kernelspec": {
   "name": "python3",
   "display_name": "Python 3",
   "language": "python"
  }
 },
 "nbformat": 4,
 "nbformat_minor": 2,
 "cells": [
  {
   "source": [
    "We are going to implement a Heap Sort Algorithm in Python.\n",
    "\n",
    "Here is how it works:\n",
    "It segments a list into sorted and unsorted segments\n",
    "It then converts the unsorted segment of the list to a Heap Data Structure so that we can efficiently determine the largest element.\n",
    "This is known as a Max Heap- A Binary Tree where the biggest element is the root node.\n",
    "We then place that maximum elemnt to the end of our sorted segment.\n",
    "Consequently, we rebuild our Max Heap which now has one less Value, placing the new largest value before the last item of the sorted segment of the list.\n",
    "We iterate this process of building the heap until all nodes are removed\n",
    "\n",
    "Worst-case scenario - O(nlogn) despite of input size"
   ],
   "cell_type": "markdown",
   "metadata": {}
  },
  {
   "cell_type": "code",
   "execution_count": 4,
   "metadata": {},
   "outputs": [],
   "source": [
    "#We start by creating a helper function-heapify\n",
    "def heapify(nums, heap_size, root_index):\n",
    "    \n",
    "    #Take the largest element as the root_index(Assume)\n",
    "    largest = root_index\n",
    "    left_child = (2 * root_index) + 1\n",
    "    right_child = (2 * root_index) + 2\n",
    "\n",
    "    #if the left_child is a valid index and the element is greater \n",
    "    # than the current largest element, then update the largest element\n",
    "    if left_child < heap_size and nums[left_child] > nums[largest]:\n",
    "        largest = left_child\n",
    "\n",
    "    #Do the same for the right_child\n",
    "    if right_child < heap_size and nums[right_child] > nums[largest]:\n",
    "        largest = right_child\n",
    "\n",
    "    #If the largest element is no longer the root element, swap them\n",
    "    if largest != root_index:\n",
    "        nums[root_index], nums[largest] = nums[largest], nums[root_index]\n",
    "        #Heapify the new root element to ensure it's the largest\n",
    "        heapify(nums, heap_size, largest)\n",
    "\n",
    "\n",
    "\n",
    "def heap_sort(nums):\n",
    "    n = len(nums)\n",
    "\n",
    "    #Create a Max Heap from the list\n",
    "    for i in range(n, -1, -1):\n",
    "        #The 2nd argument of range means swe stop at the element\n",
    "        # before -1 i.e. the first element of the list\n",
    "        #The 3rd argument of range means we iterate backwards, \n",
    "        # reducing the count of i by 1\n",
    "        heapify(nums, n, i)\n",
    "\n",
    "    #Move the root of the max heap to the end of the list\n",
    "    for i in range(n - 1, 0, -1):\n",
    "        nums[i], nums[0] = nums[0], nums[i]\n",
    "        heapify(nums, i, 0)"
   ]
  },
  {
   "cell_type": "code",
   "execution_count": 5,
   "metadata": {},
   "outputs": [
    {
     "output_type": "stream",
     "name": "stdout",
     "text": [
      "[1, 2, 5, 8, 22, 35, 40]\n"
     ]
    }
   ],
   "source": [
    "test_heap = [22, 35, 2, 5, 1, 8, 40]\n",
    "heap_sort(test_heap)\n",
    "print(test_heap)"
   ]
  },
  {
   "cell_type": "code",
   "execution_count": null,
   "metadata": {},
   "outputs": [],
   "source": []
  }
 ]
}